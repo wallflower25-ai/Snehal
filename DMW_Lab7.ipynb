{
  "nbformat": 4,
  "nbformat_minor": 0,
  "metadata": {
    "colab": {
      "provenance": [],
      "authorship_tag": "ABX9TyP8Sae7ac9/MnrozyPBlfcJ",
      "include_colab_link": true
    },
    "kernelspec": {
      "name": "python3",
      "display_name": "Python 3"
    },
    "language_info": {
      "name": "python"
    }
  },
  "cells": [
    {
      "cell_type": "markdown",
      "metadata": {
        "id": "view-in-github",
        "colab_type": "text"
      },
      "source": [
        "<a href=\"https://colab.research.google.com/github/wallflower25-ai/Snehal/blob/main/DMW_Lab7.ipynb\" target=\"_parent\"><img src=\"https://colab.research.google.com/assets/colab-badge.svg\" alt=\"Open In Colab\"/></a>"
      ]
    },
    {
      "cell_type": "code",
      "execution_count": null,
      "metadata": {
        "id": "PeyNTTgVEUJ0"
      },
      "outputs": [],
      "source": [
        "#Numeric similarity and dissimilarty"
      ]
    },
    {
      "cell_type": "code",
      "source": [
        "#euclidean distance \n",
        "from math import*\n",
        " \n",
        "def euclidean_distance(x,y):\n",
        " \n",
        "    return sqrt(sum(pow(a-b,2) for a, b in zip(x, y)))"
      ],
      "metadata": {
        "id": "shcEw8azEnrk"
      },
      "execution_count": null,
      "outputs": []
    },
    {
      "cell_type": "code",
      "source": [
        "print(euclidean_distance([0,3,4,5],[7,6,3,-1]))\n"
      ],
      "metadata": {
        "colab": {
          "base_uri": "https://localhost:8080/"
        },
        "id": "xe-XMGqmEutW",
        "outputId": "bea7254d-23c2-42b5-8c8e-928a7bad82d8"
      },
      "execution_count": null,
      "outputs": [
        {
          "output_type": "stream",
          "name": "stdout",
          "text": [
            "9.746794344808963\n"
          ]
        }
      ]
    },
    {
      "cell_type": "code",
      "source": [
        "#manhattan distance \n",
        "from math import*\n",
        " \n",
        "def manhattan_distance(x,y):\n",
        " \n",
        "    return sum(abs(a-b) for a,b in zip(x,y))"
      ],
      "metadata": {
        "id": "1hNx9WAoExml"
      },
      "execution_count": null,
      "outputs": []
    },
    {
      "cell_type": "code",
      "source": [
        "print(manhattan_distance([10,20,10],[10,20,20]))"
      ],
      "metadata": {
        "colab": {
          "base_uri": "https://localhost:8080/"
        },
        "id": "JaEqi0TLE1J9",
        "outputId": "9556a550-c94e-4414-8dc9-4289ec7d36ef"
      },
      "execution_count": null,
      "outputs": [
        {
          "output_type": "stream",
          "name": "stdout",
          "text": [
            "10\n"
          ]
        }
      ]
    },
    {
      "cell_type": "code",
      "source": [
        "#minkowski distance \n",
        "\n",
        "from math import*\n",
        "from decimal import Decimal\n",
        " \n",
        "def nth_root(value, n_root):\n",
        " \n",
        "    root_value = 1/float(n_root)\n",
        "    return round (Decimal(value) ** Decimal(root_value),3)\n",
        " \n",
        "def minkowski_distance(x,y,p_value):\n",
        " \n",
        "    return nth_root(sum(pow(abs(a-b),p_value) for a,b in zip(x, y)),p_value)"
      ],
      "metadata": {
        "id": "-NPURKo1E4Oe"
      },
      "execution_count": null,
      "outputs": []
    },
    {
      "cell_type": "code",
      "source": [
        "print (minkowski_distance([0,3,4,5],[7,6,3,-1],3))"
      ],
      "metadata": {
        "colab": {
          "base_uri": "https://localhost:8080/"
        },
        "id": "rQQ2BzbDE8Yp",
        "outputId": "854b040e-d14f-4e85-da0d-1ac0e21db5b5"
      },
      "execution_count": null,
      "outputs": [
        {
          "output_type": "stream",
          "name": "stdout",
          "text": [
            "8.373\n"
          ]
        }
      ]
    },
    {
      "cell_type": "code",
      "source": [
        "#cosine similarity and dissimilarty"
      ],
      "metadata": {
        "id": "vpz-kiC9FAfg"
      },
      "execution_count": null,
      "outputs": []
    },
    {
      "cell_type": "code",
      "source": [
        "from math import*\n",
        " \n",
        "def square_rooted(x):\n",
        " \n",
        "    return round(sqrt(sum([a*a for a in x])),3)\n",
        " \n",
        "def cosine_similarity(x,y):\n",
        "    numerator = sum(a*b for a,b in zip(x,y))\n",
        "    denominator = square_rooted(x)*square_rooted(y)\n",
        "    return round(numerator/float(denominator),3)\n"
      ],
      "metadata": {
        "id": "wPcrCaN4FFkc"
      },
      "execution_count": null,
      "outputs": []
    },
    {
      "cell_type": "code",
      "source": [
        "print(cosine_similarity([3, 45, 7, 2], [2, 54, 13, 15]))"
      ],
      "metadata": {
        "colab": {
          "base_uri": "https://localhost:8080/"
        },
        "id": "m9LA42bwFIhS",
        "outputId": "7963818e-cf58-41f8-9a6b-1ad8c931c346"
      },
      "execution_count": null,
      "outputs": [
        {
          "output_type": "stream",
          "name": "stdout",
          "text": [
            "0.972\n"
          ]
        }
      ]
    },
    {
      "cell_type": "code",
      "source": [],
      "metadata": {
        "id": "65_tyhzYFL58"
      },
      "execution_count": null,
      "outputs": []
    }
  ]
}